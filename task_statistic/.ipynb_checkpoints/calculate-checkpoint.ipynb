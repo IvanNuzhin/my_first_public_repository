{
 "cells": [
  {
   "cell_type": "code",
   "execution_count": 22,
   "id": "82466b26-8288-495e-9a84-fa321df5ff3d",
   "metadata": {},
   "outputs": [
    {
     "name": "stdout",
     "output_type": "stream",
     "text": [
      "5.763146321643979\n"
     ]
    }
   ],
   "source": [
    "import numpy as np\n",
    "\n",
    "R = 8.31446261815324\n",
    "t = 298.15\n",
    "h =  6.6260755455 * 10 **(-34)\n",
    "speed_light = 2.99792458 * 10 ** (8)\n",
    "k = 1.380649 * 10 ** (-23)\n",
    "const_avocado = 6.022141 * 10**(23)\n",
    "pressure = 101325\n",
    "mass = 46.0055 \n",
    "\n",
    "def convert_w_to_nu(w_array):\n",
    "    return w_array * 100 * speed_light \n",
    "\n",
    "def ent_vib(nu_array, T):\n",
    "    sum_entropy = 0\n",
    "    kote = k * T\n",
    "    for nu in nu_array:\n",
    "        useful_everywhere = -h*nu/kote\n",
    "        sum_entropy += -useful_everywhere * np.exp(useful_everywhere) / (1 - np.exp(useful_everywhere)) - np.log(1 - np.exp(useful_everywhere)) \n",
    "    return sum_entropy * R\n",
    "\n",
    "def ene_vib(nu_array, T):\n",
    "    sum_energy = 0\n",
    "    kote = k * T\n",
    "    for nu in nu_array:\n",
    "        useful_everywhere = -h*nu/kote\n",
    "        sum_energy += -useful_everywhere * np.exp(useful_everywhere) / (1 - np.exp(useful_everywhere))\n",
    "    return T * R * sum_energy\n",
    "\n",
    "def ent_rot_nonlin(mom_inert, sigma, T):\n",
    "    kote = k * T\n",
    "    q = np.sqrt(np.pi)/sigma * ((8 * np.pi ** 2 * kote)/ h ** 2) ** (3/2) * np.sqrt(mom_inert[0] * mom_inert[1] * mom_inert[2])\n",
    "    return R * np.log(q) + 3/2 * R\n",
    "\n",
    "def ene_rot_nonlin(T):\n",
    "    return R * T * 3 / 2\n",
    "    \n",
    "def ent_rot_lin(mom_inert, sigma, T):\n",
    "    kote = k * T\n",
    "    q = (8 * np.pi ** 2 * mom_inert * kote)/ sigma / h ** 2\n",
    "    return R * np.log(q) + R\n",
    "\n",
    "def ene_rot_lin(T):\n",
    "    return R * T\n",
    "\n",
    "def ent_el(g):\n",
    "    return R * np.log(g)\n",
    "\n",
    "def ene_trans(T):\n",
    "    return 3 / 2 * R * T\n",
    "\n",
    "def ent_trans(T, m, press):\n",
    "    mass_molecure = m / const_avocado * 10 ** (-3)\n",
    "    kote = k * T\n",
    "    q = kote/ press * (np.sqrt(2 * np.pi * mass_molecure * kote)/ h) ** 3\n",
    "    return 5/2 * R + R * np.log(q)\n",
    "    \n",
    "    \n",
    "    \n",
    "w_array  = np.array([623.49, 743.27, 1412.65])\n",
    "nu_array = convert_w_to_nu(w_array)\n",
    "moment_inert = (1.009173 * 10 **(-46), 5.013162 * 10 **(-46), 6.022335 * 10 **(-46))\n",
    "sigma = 2\n",
    "\n",
    "\n",
    "print(ent_el(2))\n"
   ]
  },
  {
   "cell_type": "code",
   "execution_count": 32,
   "id": "bfa75409-75bd-4131-b0fd-59f5722756d0",
   "metadata": {},
   "outputs": [
    {
     "name": "stdout",
     "output_type": "stream",
     "text": [
      "e1 = 2\n",
      "e2 = 7\n"
     ]
    },
    {
     "name": "stdin",
     "output_type": "stream",
     "text": [
      " 1\n"
     ]
    },
    {
     "name": "stdout",
     "output_type": "stream",
     "text": [
      "e1 = 2\n",
      "e2 = 8\n"
     ]
    },
    {
     "name": "stdin",
     "output_type": "stream",
     "text": [
      " 2\n"
     ]
    },
    {
     "name": "stdout",
     "output_type": "stream",
     "text": [
      "-200 -700\n",
      "300\n",
      "1.2219709390273115\n",
      "e1 = 2\n",
      "e2 = 7\n"
     ]
    },
    {
     "name": "stdin",
     "output_type": "stream",
     "text": [
      " уа\n"
     ]
    },
    {
     "ename": "KeyError",
     "evalue": "'уа'",
     "output_type": "error",
     "traceback": [
      "\u001b[0;31m---------------------------------------------------------------------------\u001b[0m",
      "\u001b[0;31mKeyError\u001b[0m                                  Traceback (most recent call last)",
      "Cell \u001b[0;32mIn[32], line 26\u001b[0m\n\u001b[1;32m     24\u001b[0m \u001b[38;5;28;01mif\u001b[39;00m h \u001b[38;5;241m==\u001b[39m \u001b[38;5;124m\"\u001b[39m\u001b[38;5;124mno\u001b[39m\u001b[38;5;124m\"\u001b[39m:\n\u001b[1;32m     25\u001b[0m     \u001b[38;5;28;01mbreak\u001b[39;00m\n\u001b[0;32m---> 26\u001b[0m u_2 \u001b[38;5;241m=\u001b[39m \u001b[43mdictionary\u001b[49m\u001b[43m[\u001b[49m\u001b[43mh\u001b[49m\u001b[43m]\u001b[49m\n\u001b[1;32m     27\u001b[0m \u001b[38;5;28;01mif\u001b[39;00m u_1 \u001b[38;5;241m<\u001b[39m\u001b[38;5;241m=\u001b[39m u_2:\n\u001b[1;32m     28\u001b[0m     u_1 \u001b[38;5;241m=\u001b[39m u_2\n",
      "\u001b[0;31mKeyError\u001b[0m: 'уа'"
     ]
    }
   ],
   "source": [
    "import math\n",
    "import random\n",
    "import numpy as np\n",
    "\n",
    "u_1 = -700\n",
    "t = 300\n",
    "dictionary = {\n",
    "    \"1\": -200,\n",
    "    \"2\": -700,\n",
    "    \"3\": -1000,\n",
    "}\n",
    "R = 8.314\n",
    "def calculate_energy(U1, U2, T):\n",
    "    return np.exp((U1 - U2)/ (R * T)\n",
    "s = 1\n",
    "middle_energy = 0\n",
    "middle_energy +=  u_1\n",
    "while True:\n",
    "    epsilon_1 = int(2 * random.random()) + 1\n",
    "    print(f\"e1 = {epsilon_1}\")\n",
    "    epsilon_2 = int(8 * random.random()) + 1\n",
    "    print(f\"e2 = {epsilon_2}\")\n",
    "    h = input().lower().strip()\n",
    "    if h == \"no\":\n",
    "        break\n",
    "    u_2 = dictionary[h]\n",
    "    if u_1 <= u_2:\n",
    "        u_1 = u_2\n",
    "        s+=1\n",
    "        middle_energy += u_1\n",
    "    else:\n",
    "        s+=1\n",
    "        print(u_1, u_2)\n",
    "        print(t)\n",
    "        proc = calculate_energy(U1=u_1, U2=u_2, T=t)\n",
    "        print(proc)\n",
    "        if proc > random.random():\n",
    "            u_1 = u_2\n",
    "            middle_energy += u_1\n",
    "    \n",
    "print(middle_energy/s)\n",
    "\n",
    "\n",
    "\n",
    "\n"
   ]
  },
  {
   "cell_type": "code",
   "execution_count": null,
   "id": "e6790411-9f4a-4222-beba-bedb27ca7913",
   "metadata": {},
   "outputs": [],
   "source": []
  }
 ],
 "metadata": {
  "kernelspec": {
   "display_name": "Python 3 (ipykernel)",
   "language": "python",
   "name": "python3"
  },
  "language_info": {
   "codemirror_mode": {
    "name": "ipython",
    "version": 3
   },
   "file_extension": ".py",
   "mimetype": "text/x-python",
   "name": "python",
   "nbconvert_exporter": "python",
   "pygments_lexer": "ipython3",
   "version": "3.11.5"
  }
 },
 "nbformat": 4,
 "nbformat_minor": 5
}
